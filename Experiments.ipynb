{
 "cells": [
  {
   "cell_type": "code",
   "execution_count": 2,
   "id": "c56e7eb2",
   "metadata": {},
   "outputs": [
    {
     "name": "stdout",
     "output_type": "stream",
     "text": [
      "[INFO] torch/torchvision versions not as required, installing nightly versions.\n",
      "Looking in indexes: https://pypi.org/simple, https://download.pytorch.org/whl/nightly/cu113\n",
      "Requirement already satisfied: torch in /data/home/ayyoobmohd/miniconda3/envs/DL/lib/python3.11/site-packages (2.0.1)\n",
      "Requirement already satisfied: torchvision in /data/home/ayyoobmohd/miniconda3/envs/DL/lib/python3.11/site-packages (0.15.2)\n",
      "Collecting torchaudio\n",
      "  Downloading torchaudio-2.0.2-cp311-cp311-manylinux1_x86_64.whl (4.4 MB)\n",
      "\u001b[2K     \u001b[38;2;114;156;31m━━━━━━━━━━━━━━━━━━━━━━━━━━━━━━━━━━━━━━━━\u001b[0m \u001b[32m4.4/4.4 MB\u001b[0m \u001b[31m14.3 MB/s\u001b[0m eta \u001b[36m0:00:00\u001b[0mm eta \u001b[36m0:00:01\u001b[0m36m0:00:01\u001b[0m\n",
      "\u001b[?25hRequirement already satisfied: filelock in /data/home/ayyoobmohd/miniconda3/envs/DL/lib/python3.11/site-packages (from torch) (3.12.2)\n",
      "Requirement already satisfied: typing-extensions in /data/home/ayyoobmohd/miniconda3/envs/DL/lib/python3.11/site-packages (from torch) (4.5.0)\n",
      "Requirement already satisfied: sympy in /data/home/ayyoobmohd/miniconda3/envs/DL/lib/python3.11/site-packages (from torch) (1.12)\n",
      "Requirement already satisfied: networkx in /data/home/ayyoobmohd/miniconda3/envs/DL/lib/python3.11/site-packages (from torch) (3.1)\n",
      "Requirement already satisfied: jinja2 in /data/home/ayyoobmohd/miniconda3/envs/DL/lib/python3.11/site-packages (from torch) (3.1.2)\n",
      "Requirement already satisfied: nvidia-cuda-nvrtc-cu11==11.7.99 in /data/home/ayyoobmohd/miniconda3/envs/DL/lib/python3.11/site-packages (from torch) (11.7.99)\n",
      "Requirement already satisfied: nvidia-cuda-runtime-cu11==11.7.99 in /data/home/ayyoobmohd/miniconda3/envs/DL/lib/python3.11/site-packages (from torch) (11.7.99)\n",
      "Requirement already satisfied: nvidia-cuda-cupti-cu11==11.7.101 in /data/home/ayyoobmohd/miniconda3/envs/DL/lib/python3.11/site-packages (from torch) (11.7.101)\n",
      "Requirement already satisfied: nvidia-cudnn-cu11==8.5.0.96 in /data/home/ayyoobmohd/miniconda3/envs/DL/lib/python3.11/site-packages (from torch) (8.5.0.96)\n",
      "Requirement already satisfied: nvidia-cublas-cu11==11.10.3.66 in /data/home/ayyoobmohd/miniconda3/envs/DL/lib/python3.11/site-packages (from torch) (11.10.3.66)\n",
      "Requirement already satisfied: nvidia-cufft-cu11==10.9.0.58 in /data/home/ayyoobmohd/miniconda3/envs/DL/lib/python3.11/site-packages (from torch) (10.9.0.58)\n",
      "Requirement already satisfied: nvidia-curand-cu11==10.2.10.91 in /data/home/ayyoobmohd/miniconda3/envs/DL/lib/python3.11/site-packages (from torch) (10.2.10.91)\n",
      "Requirement already satisfied: nvidia-cusolver-cu11==11.4.0.1 in /data/home/ayyoobmohd/miniconda3/envs/DL/lib/python3.11/site-packages (from torch) (11.4.0.1)\n",
      "Requirement already satisfied: nvidia-cusparse-cu11==11.7.4.91 in /data/home/ayyoobmohd/miniconda3/envs/DL/lib/python3.11/site-packages (from torch) (11.7.4.91)\n",
      "Requirement already satisfied: nvidia-nccl-cu11==2.14.3 in /data/home/ayyoobmohd/miniconda3/envs/DL/lib/python3.11/site-packages (from torch) (2.14.3)\n",
      "Requirement already satisfied: nvidia-nvtx-cu11==11.7.91 in /data/home/ayyoobmohd/miniconda3/envs/DL/lib/python3.11/site-packages (from torch) (11.7.91)\n",
      "Requirement already satisfied: triton==2.0.0 in /data/home/ayyoobmohd/miniconda3/envs/DL/lib/python3.11/site-packages (from torch) (2.0.0)\n",
      "Requirement already satisfied: setuptools in /data/home/ayyoobmohd/miniconda3/envs/DL/lib/python3.11/site-packages (from nvidia-cublas-cu11==11.10.3.66->torch) (68.0.0)\n",
      "Requirement already satisfied: wheel in /data/home/ayyoobmohd/miniconda3/envs/DL/lib/python3.11/site-packages (from nvidia-cublas-cu11==11.10.3.66->torch) (0.38.4)\n",
      "Requirement already satisfied: cmake in /data/home/ayyoobmohd/miniconda3/envs/DL/lib/python3.11/site-packages (from triton==2.0.0->torch) (3.27.2)\n",
      "Requirement already satisfied: lit in /data/home/ayyoobmohd/miniconda3/envs/DL/lib/python3.11/site-packages (from triton==2.0.0->torch) (16.0.6)\n",
      "Requirement already satisfied: numpy in /data/home/ayyoobmohd/miniconda3/envs/DL/lib/python3.11/site-packages (from torchvision) (1.24.3)\n",
      "Requirement already satisfied: requests in /data/home/ayyoobmohd/miniconda3/envs/DL/lib/python3.11/site-packages (from torchvision) (2.31.0)\n",
      "Requirement already satisfied: pillow!=8.3.*,>=5.3.0 in /data/home/ayyoobmohd/miniconda3/envs/DL/lib/python3.11/site-packages (from torchvision) (9.4.0)\n",
      "Requirement already satisfied: MarkupSafe>=2.0 in /data/home/ayyoobmohd/miniconda3/envs/DL/lib/python3.11/site-packages (from jinja2->torch) (2.1.1)\n",
      "Requirement already satisfied: charset-normalizer<4,>=2 in /data/home/ayyoobmohd/miniconda3/envs/DL/lib/python3.11/site-packages (from requests->torchvision) (2.0.4)\n",
      "Requirement already satisfied: idna<4,>=2.5 in /data/home/ayyoobmohd/miniconda3/envs/DL/lib/python3.11/site-packages (from requests->torchvision) (3.4)\n",
      "Requirement already satisfied: urllib3<3,>=1.21.1 in /data/home/ayyoobmohd/miniconda3/envs/DL/lib/python3.11/site-packages (from requests->torchvision) (1.26.16)\n",
      "Requirement already satisfied: certifi>=2017.4.17 in /data/home/ayyoobmohd/miniconda3/envs/DL/lib/python3.11/site-packages (from requests->torchvision) (2023.7.22)\n",
      "Requirement already satisfied: mpmath>=0.19 in /data/home/ayyoobmohd/miniconda3/envs/DL/lib/python3.11/site-packages (from sympy->torch) (1.3.0)\n",
      "Installing collected packages: torchaudio\n",
      "Successfully installed torchaudio-2.0.2\n",
      "torch version: 2.0.1+cu117\n",
      "torchvision version: 0.15.2+cu117\n"
     ]
    }
   ],
   "source": [
    "# For this notebook to run with updated APIs, we need torch 1.12+ and torchvision 0.13+\n",
    "try:\n",
    "    import torch\n",
    "    import torchvision\n",
    "    assert int(torch.__version__.split(\".\")[1]) >= 12, \"torch version should be 1.12+\"\n",
    "    assert int(torchvision.__version__.split(\".\")[1]) >= 13, \"torchvision version should be 0.13+\"\n",
    "    print(f\"torch version: {torch.__version__}\")\n",
    "    print(f\"torchvision version: {torchvision.__version__}\")\n",
    "except:\n",
    "    print(f\"[INFO] torch/torchvision versions not as required, installing nightly versions.\")\n",
    "    !pip3 install -U --pre torch torchvision torchaudio --extra-index-url https://download.pytorch.org/whl/nightly/cu113\n",
    "    import torch\n",
    "    import torchvision\n",
    "    print(f\"torch version: {torch.__version__}\")\n",
    "    print(f\"torchvision version: {torchvision.__version__}\")\n"
   ]
  },
  {
   "cell_type": "code",
   "execution_count": 3,
   "id": "a828ea27",
   "metadata": {},
   "outputs": [
    {
     "name": "stdout",
     "output_type": "stream",
     "text": [
      "[INFO] Couldn't find torchinfo... installing it.\n",
      "[INFO] Couldn't find going_modular or helper_functions scripts... downloading them from GitHub.\n",
      "Cloning into 'pytorch-deep-learning'...\n",
      "remote: Enumerating objects: 3951, done.\u001b[K\n",
      "remote: Counting objects: 100% (1142/1142), done.\u001b[K\n",
      "remote: Compressing objects: 100% (178/178), done.\u001b[K\n",
      "remote: Total 3951 (delta 1017), reused 1020 (delta 961), pack-reused 2809\u001b[K\n",
      "Receiving objects: 100% (3951/3951), 650.18 MiB | 1.98 MiB/s, done.\n",
      "Resolving deltas: 100% (2308/2308), done.\n",
      "Updating files: 100% (248/248), done.\n"
     ]
    }
   ],
   "source": [
    "# Continue with regular imports\n",
    "import matplotlib.pyplot as plt\n",
    "import torch\n",
    "import torchvision\n",
    "\n",
    "from torch import nn\n",
    "from torchvision import transforms\n",
    "\n",
    "# Try to get torchinfo, install it if it doesn't work\n",
    "try:\n",
    "    from torchinfo import summary\n",
    "except:\n",
    "    print(\"[INFO] Couldn't find torchinfo... installing it.\")\n",
    "    !pip install -q torchinfo\n",
    "    from torchinfo import summary\n",
    "\n",
    "# Try to import the going_modular directory, download it from GitHub if it doesn't work\n",
    "try:\n",
    "    from going_modular.going_modular import data_setup, engine\n",
    "    from helper_functions import download_data, set_seeds, plot_loss_curves\n",
    "except:\n",
    "    # Get the going_modular scripts\n",
    "    print(\"[INFO] Couldn't find going_modular or helper_functions scripts... downloading them from GitHub.\")\n",
    "    !git clone https://github.com/mrdbourke/pytorch-deep-learning\n",
    "    !mv pytorch-deep-learning/going_modular .\n",
    "    !mv pytorch-deep-learning/helper_functions.py . # get the helper_functions.py script\n",
    "    !rm -rf pytorch-deep-learning\n",
    "    from going_modular.going_modular import data_setup, engine\n",
    "    from helper_functions import download_data, set_seeds, plot_loss_curves"
   ]
  },
  {
   "cell_type": "code",
   "execution_count": 4,
   "id": "88f13a33",
   "metadata": {},
   "outputs": [
    {
     "data": {
      "text/plain": [
       "'cuda'"
      ]
     },
     "execution_count": 4,
     "metadata": {},
     "output_type": "execute_result"
    }
   ],
   "source": [
    "device = \"cuda\" if torch.cuda.is_available() else \"cpu\"\n",
    "device"
   ]
  },
  {
   "cell_type": "code",
   "execution_count": 5,
   "id": "5e672545",
   "metadata": {},
   "outputs": [
    {
     "name": "stdout",
     "output_type": "stream",
     "text": [
      "[INFO] Did not find data/pizza_steak_sushi directory, creating one...\n",
      "[INFO] Downloading pizza_steak_sushi.zip from https://github.com/mrdbourke/pytorch-deep-learning/raw/main/data/pizza_steak_sushi.zip...\n",
      "[INFO] Unzipping pizza_steak_sushi.zip data...\n"
     ]
    }
   ],
   "source": [
    "# Download pizza, steak, sushi images from GitHub\n",
    "image_path = download_data(source=\"https://github.com/mrdbourke/pytorch-deep-learning/raw/main/data/pizza_steak_sushi.zip\",\n",
    "                           destination=\"pizza_steak_sushi\")\n",
    "image_path\n",
    "\n",
    "# Setup directory paths to train and test images\n",
    "train_dir = image_path / \"train\"\n",
    "test_dir = image_path / \"test\""
   ]
  },
  {
   "cell_type": "markdown",
   "id": "9e9c4c88",
   "metadata": {},
   "source": [
    "## Preprocess Data"
   ]
  },
  {
   "cell_type": "code",
   "execution_count": 6,
   "id": "8a239c1f",
   "metadata": {},
   "outputs": [
    {
     "name": "stdout",
     "output_type": "stream",
     "text": [
      "Manually created transforms: Compose(\n",
      "    Resize(size=(224, 224), interpolation=bilinear, max_size=None, antialias=warn)\n",
      "    ToTensor()\n",
      ")\n"
     ]
    },
    {
     "data": {
      "text/plain": [
       "(<torch.utils.data.dataloader.DataLoader at 0x7f23ee5336d0>,\n",
       " <torch.utils.data.dataloader.DataLoader at 0x7f24b3979b50>,\n",
       " ['pizza', 'steak', 'sushi'])"
      ]
     },
     "execution_count": 6,
     "metadata": {},
     "output_type": "execute_result"
    }
   ],
   "source": [
    "# Create image size (from Table 3 in the ViT paper) \n",
    "IMG_SIZE = 224\n",
    "\n",
    "# Create transform pipeline manually\n",
    "manual_transforms = transforms.Compose([\n",
    "    transforms.Resize((IMG_SIZE, IMG_SIZE)),\n",
    "    transforms.ToTensor(),\n",
    "])           \n",
    "print(f\"Manually created transforms: {manual_transforms}\")\n",
    "\n",
    "# Set the batch size\n",
    "BATCH_SIZE = 32 # this is lower than the ViT paper but it's because we're starting small\n",
    "\n",
    "# Create data loaders\n",
    "train_dataloader, test_dataloader, class_names = data_setup.create_dataloaders(\n",
    "    train_dir=train_dir,\n",
    "    test_dir=test_dir,\n",
    "    transform=manual_transforms, # use manually created transforms\n",
    "    batch_size=BATCH_SIZE\n",
    ")\n",
    "\n",
    "train_dataloader, test_dataloader, class_names\n"
   ]
  },
  {
   "cell_type": "code",
   "execution_count": 7,
   "id": "65efdfee",
   "metadata": {},
   "outputs": [
    {
     "data": {
      "text/plain": [
       "(torch.Size([3, 224, 224]), tensor(2))"
      ]
     },
     "execution_count": 7,
     "metadata": {},
     "output_type": "execute_result"
    }
   ],
   "source": [
    "# Get a batch of images\n",
    "image_batch, label_batch = next(iter(train_dataloader))\n",
    "\n",
    "# Get a single image from the batch\n",
    "image, label = image_batch[0], label_batch[0]\n",
    "\n",
    "# View the batch shapes\n",
    "image.shape, label"
   ]
  },
  {
   "cell_type": "markdown",
   "id": "4a9f5d3a",
   "metadata": {},
   "source": [
    "## Patch EMbedding Layer"
   ]
  },
  {
   "cell_type": "code",
   "execution_count": 8,
   "id": "88ccf77a",
   "metadata": {},
   "outputs": [],
   "source": [
    "rand_image_tensor = torch.randn(32, 3, 224, 224) # (batch_size, color_channels, height, width)\n",
    "rand_image_tensor.shape\n",
    "\n",
    "# 1. Create a class which subclasses nn.Module\n",
    "class PatchEmbedding(nn.Module):\n",
    "    \"\"\"Turns a 2D input image into a 1D sequence learnable embedding vector.\n",
    "    \n",
    "    Args:\n",
    "        in_channels (int): Number of color channels for the input images. Defaults to 3.\n",
    "        patch_size (int): Size of patches to convert input image into. Defaults to 16.\n",
    "        embedding_dim (int): Size of embedding to turn image into. Defaults to 768.\n",
    "    \"\"\" \n",
    "    # 2. Initialize the class with appropriate variables\n",
    "    def __init__(self, \n",
    "                 in_channels:int=3,\n",
    "                 patch_size:int=16,\n",
    "                 embedding_dim:int=768):\n",
    "        super().__init__()\n",
    "        \n",
    "        self.patch_size = patch_size\n",
    "        \n",
    "        # 3. Create a layer to turn an image into patches\n",
    "        self.patcher = nn.Conv2d(in_channels=in_channels,\n",
    "                                 out_channels=embedding_dim,\n",
    "                                 kernel_size=patch_size,\n",
    "                                 stride=patch_size,\n",
    "                                 padding=0)\n",
    "\n",
    "        # 4. Create a layer to flatten the patch feature maps into a single dimension\n",
    "        self.flatten = nn.Flatten(start_dim=2, # only flatten the feature map dimensions into a single vector\n",
    "                                  end_dim=3)\n",
    "    \n",
    "    # 5. Define the forward method \n",
    "    def forward(self, x):\n",
    "        # Create assertion to check that inputs are the correct shape\n",
    "        image_resolution = x.shape[-1]\n",
    "        assert image_resolution % self.patch_size == 0, f\"Input image size must be divisble by patch size, image shape: {image_resolution}, patch size: {self.patch_size}\"\n",
    "        \n",
    "        # Perform the forward pass\n",
    "        x_patched = self.patcher(x)\n",
    "        x_flattened = self.flatten(x_patched) \n",
    "        # 6. Make sure the output shape has the right order \n",
    "        return x_flattened.permute(0, 2, 1) # adjust so the embedding is on the final dimension [batch_sizw"
   ]
  },
  {
   "cell_type": "code",
   "execution_count": 9,
   "id": "f54513d1",
   "metadata": {},
   "outputs": [
    {
     "name": "stdout",
     "output_type": "stream",
     "text": [
      "Input shape: torch.Size([32, 3, 224, 224])\n",
      "Output shape: torch.Size([32, 196, 768]) -> (batch_size, num_patches, embedding_dim)\n"
     ]
    }
   ],
   "source": [
    "patch_embedding = PatchEmbedding(patch_size=16)\n",
    "patch_embedding_output = patch_embedding(rand_image_tensor)\n",
    "print(f\"Input shape: {rand_image_tensor.shape}\")\n",
    "print(f\"Output shape: {patch_embedding_output.shape} -> (batch_size, num_patches, embedding_dim)\")"
   ]
  },
  {
   "cell_type": "markdown",
   "id": "558c838c",
   "metadata": {},
   "source": [
    "## Transformer ENcoder Layer"
   ]
  },
  {
   "cell_type": "code",
   "execution_count": 10,
   "id": "975441a7",
   "metadata": {},
   "outputs": [
    {
     "data": {
      "text/plain": [
       "==========================================================================================\n",
       "Layer (type:depth-idx)                   Output Shape              Param #\n",
       "==========================================================================================\n",
       "TransformerEncoderLayer                  [32, 196, 768]            7,087,872\n",
       "==========================================================================================\n",
       "Total params: 7,087,872\n",
       "Trainable params: 7,087,872\n",
       "Non-trainable params: 0\n",
       "Total mult-adds (Units.MEGABYTES): 0\n",
       "==========================================================================================\n",
       "Input size (MB): 19.27\n",
       "Forward/backward pass size (MB): 0.00\n",
       "Params size (MB): 0.00\n",
       "Estimated Total Size (MB): 19.27\n",
       "=========================================================================================="
      ]
     },
     "execution_count": 10,
     "metadata": {},
     "output_type": "execute_result"
    }
   ],
   "source": [
    "# Hyperparameters from Table 1 and Table 3 for ViT-Base\n",
    "transformer_encoder_layer = nn.TransformerEncoderLayer(d_model=768,\n",
    "                                                       nhead=12,\n",
    "                                                       dim_feedforward=3072,\n",
    "                                                       dropout=0.1,\n",
    "                                                       activation=\"gelu\",\n",
    "                                                       batch_first=True,\n",
    "                                                       norm_first=True)\n",
    "transformer_encoder_layer\n",
    "\n",
    "\n",
    "from torchinfo import summary \n",
    "\n",
    "summary(model=transformer_encoder_layer,\n",
    "        input_size=patch_embedding_output.shape)"
   ]
  },
  {
   "cell_type": "markdown",
   "id": "784d80cc",
   "metadata": {},
   "source": [
    "## Stacking Transformer encoder layers to make complete Vit"
   ]
  },
  {
   "cell_type": "code",
   "execution_count": 12,
   "id": "f7b3baae",
   "metadata": {},
   "outputs": [],
   "source": [
    "transformer_encoder = nn.TransformerEncoder(\n",
    "    encoder_layer=transformer_encoder_layer,\n",
    "    num_layers=12)"
   ]
  },
  {
   "cell_type": "markdown",
   "id": "f6cce6e6",
   "metadata": {},
   "source": [
    "## ViT"
   ]
  },
  {
   "cell_type": "code",
   "execution_count": 14,
   "id": "a8a0bb06",
   "metadata": {},
   "outputs": [],
   "source": [
    "class ViT(nn.Module): \n",
    "  def __init__(self,\n",
    "               img_size=224, # from Table 3\n",
    "               num_channels=3,\n",
    "               patch_size=16,\n",
    "               embedding_dim=768, # from Table 1\n",
    "               dropout=0.1, \n",
    "               mlp_size=3072, # from Table 1\n",
    "               num_transformer_layers=12, # from Table 1\n",
    "               num_heads=12, # from Table 1 (number of multi-head self attention heads)\n",
    "               num_classes=1000): # generic number of classes (this can be adjusted)\n",
    "    super().__init__()\n",
    "\n",
    "    # Assert image size is divisible by patch size \n",
    "    assert img_size % patch_size == 0, \"Image size must be divisble by patch size.\"\n",
    "\n",
    "    # 1. Create patch embedding\n",
    "    self.patch_embedding = PatchEmbedding(in_channels=num_channels,\n",
    "                                          patch_size=patch_size,\n",
    "                                          embedding_dim=embedding_dim)\n",
    "\n",
    "    # 2. Create class token\n",
    "    self.class_token = nn.Parameter(torch.randn(1, 1, embedding_dim),\n",
    "                                    requires_grad=True)\n",
    "\n",
    "    # 3. Create positional embedding\n",
    "    num_patches = (img_size * img_size) // patch_size**2 # N = HW/P^2\n",
    "    self.positional_embedding = nn.Parameter(torch.randn(1, num_patches+1, embedding_dim))\n",
    "\n",
    "    # 4. Create patch + position embedding dropout \n",
    "    self.embedding_dropout = nn.Dropout(p=dropout)\n",
    "\n",
    "    # 5. Create stack Transformer Encoder layers (stacked single layers)\n",
    "    self.transformer_encoder = nn.TransformerEncoder(encoder_layer=nn.TransformerEncoderLayer(d_model=embedding_dim,\n",
    "                                                                                              nhead=num_heads,\n",
    "                                                                                              dim_feedforward=mlp_size,\n",
    "                                                                                              activation=\"gelu\",\n",
    "                                                                                              batch_first=True,\n",
    "                                                                                              norm_first=True), # Create a single Transformer Encoder Layer\n",
    "                                                     num_layers=num_transformer_layers) # Stack it N times\n",
    "\n",
    "    # 7. Create MLP head\n",
    "    self.mlp_head = nn.Sequential(\n",
    "        nn.LayerNorm(normalized_shape=embedding_dim),\n",
    "        nn.Linear(in_features=embedding_dim,\n",
    "                  out_features=num_classes)\n",
    "    )\n",
    "\n",
    "  def forward(self, x):\n",
    "    # Get some dimensions from x\n",
    "    batch_size = x.shape[0]\n",
    "\n",
    "    # Create the patch embedding\n",
    "    x = self.patch_embedding(x)\n",
    "    # print(x.shape)\n",
    "\n",
    "    # First, expand the class token across the batch size\n",
    "    class_token = self.class_token.expand(batch_size, -1, -1) # \"-1\" means infer the dimension\n",
    "\n",
    "    # Prepend the class token to the patch embedding\n",
    "    x = torch.cat((class_token, x), dim=1)\n",
    "    # print(x.shape)\n",
    "\n",
    "    # Add the positional embedding to patch embedding with class token\n",
    "    x = self.positional_embedding + x\n",
    "    # print(x.shape)\n",
    "\n",
    "    # Dropout on patch + positional embedding\n",
    "    x = self.embedding_dropout(x)\n",
    "\n",
    "    # Pass embedding through Transformer Encoder stack\n",
    "    x = self.transformer_encoder(x)\n",
    "\n",
    "    # Pass 0th index of x through MLP head\n",
    "    x = self.mlp_head(x[:, 0])\n",
    "\n",
    "    return x"
   ]
  },
  {
   "cell_type": "code",
   "execution_count": 15,
   "id": "f20e2127",
   "metadata": {},
   "outputs": [
    {
     "name": "stdout",
     "output_type": "stream",
     "text": [
      "torch.Size([1, 3, 224, 224])\n"
     ]
    },
    {
     "data": {
      "text/plain": [
       "tensor([[-0.4590, -0.1046,  0.0201]], device='cuda:0',\n",
       "       grad_fn=<AddmmBackward0>)"
      ]
     },
     "execution_count": 15,
     "metadata": {},
     "output_type": "execute_result"
    }
   ],
   "source": [
    "demo_img = torch.randn(1, 3, 224, 224).to(device)\n",
    "print(demo_img.shape) \n",
    "\n",
    "# Create ViT\n",
    "vit = ViT(num_classes=len(class_names)).to(device)\n",
    "vit(demo_img)"
   ]
  },
  {
   "cell_type": "code",
   "execution_count": 16,
   "id": "3bf3f87a",
   "metadata": {},
   "outputs": [
    {
     "data": {
      "text/plain": [
       "===============================================================================================\n",
       "Layer (type:depth-idx)                        Output Shape              Param #\n",
       "===============================================================================================\n",
       "ViT                                           [1, 3]                    152,064\n",
       "├─PatchEmbedding: 1-1                         [1, 196, 768]             --\n",
       "│    └─Conv2d: 2-1                            [1, 768, 14, 14]          590,592\n",
       "│    └─Flatten: 2-2                           [1, 768, 196]             --\n",
       "├─Dropout: 1-2                                [1, 197, 768]             --\n",
       "├─TransformerEncoder: 1-3                     [1, 197, 768]             --\n",
       "│    └─ModuleList: 2-3                        --                        --\n",
       "│    │    └─TransformerEncoderLayer: 3-1      [1, 197, 768]             7,087,872\n",
       "│    │    └─TransformerEncoderLayer: 3-2      [1, 197, 768]             7,087,872\n",
       "│    │    └─TransformerEncoderLayer: 3-3      [1, 197, 768]             7,087,872\n",
       "│    │    └─TransformerEncoderLayer: 3-4      [1, 197, 768]             7,087,872\n",
       "│    │    └─TransformerEncoderLayer: 3-5      [1, 197, 768]             7,087,872\n",
       "│    │    └─TransformerEncoderLayer: 3-6      [1, 197, 768]             7,087,872\n",
       "│    │    └─TransformerEncoderLayer: 3-7      [1, 197, 768]             7,087,872\n",
       "│    │    └─TransformerEncoderLayer: 3-8      [1, 197, 768]             7,087,872\n",
       "│    │    └─TransformerEncoderLayer: 3-9      [1, 197, 768]             7,087,872\n",
       "│    │    └─TransformerEncoderLayer: 3-10     [1, 197, 768]             7,087,872\n",
       "│    │    └─TransformerEncoderLayer: 3-11     [1, 197, 768]             7,087,872\n",
       "│    │    └─TransformerEncoderLayer: 3-12     [1, 197, 768]             7,087,872\n",
       "├─Sequential: 1-4                             [1, 3]                    --\n",
       "│    └─LayerNorm: 2-4                         [1, 768]                  1,536\n",
       "│    └─Linear: 2-5                            [1, 3]                    2,307\n",
       "===============================================================================================\n",
       "Total params: 85,800,963\n",
       "Trainable params: 85,800,963\n",
       "Non-trainable params: 0\n",
       "Total mult-adds (Units.MEGABYTES): 115.76\n",
       "===============================================================================================\n",
       "Input size (MB): 0.60\n",
       "Forward/backward pass size (MB): 1.21\n",
       "Params size (MB): 2.38\n",
       "Estimated Total Size (MB): 4.19\n",
       "==============================================================================================="
      ]
     },
     "execution_count": 16,
     "metadata": {},
     "output_type": "execute_result"
    }
   ],
   "source": [
    "summary(model=ViT(num_classes=3),\n",
    "        input_size=demo_img.shape)"
   ]
  },
  {
   "cell_type": "code",
   "execution_count": 17,
   "id": "a4bb59d0",
   "metadata": {},
   "outputs": [
    {
     "data": {
      "text/plain": [
       "3"
      ]
     },
     "execution_count": 17,
     "metadata": {},
     "output_type": "execute_result"
    }
   ],
   "source": [
    "len(class_names)"
   ]
  },
  {
   "cell_type": "code",
   "execution_count": 18,
   "id": "2bbb3967",
   "metadata": {},
   "outputs": [
    {
     "name": "stdout",
     "output_type": "stream",
     "text": [
      "Writing vit.py\n"
     ]
    }
   ],
   "source": [
    "%%writefile vit.py\n",
    "import torch\n",
    "from torch import nn \n",
    "\n",
    "# 1. Create a class which subclasses nn.Module\n",
    "class PatchEmbedding(nn.Module):\n",
    "    \"\"\"Turns a 2D input image into a 1D sequence learnable embedding vector.\n",
    "    \n",
    "    Args:\n",
    "        in_channels (int): Number of color channels for the input images. Defaults to 3.\n",
    "        patch_size (int): Size of patches to convert input image into. Defaults to 16.\n",
    "        embedding_dim (int): Size of embedding to turn image into. Defaults to 768.\n",
    "    \"\"\" \n",
    "    # 2. Initialize the class with appropriate variables\n",
    "    def __init__(self, \n",
    "                 in_channels:int=3,\n",
    "                 patch_size:int=16,\n",
    "                 embedding_dim:int=768):\n",
    "        super().__init__()\n",
    "        \n",
    "        self.patch_size = patch_size\n",
    "        \n",
    "        # 3. Create a layer to turn an image into patches\n",
    "        self.patcher = nn.Conv2d(in_channels=in_channels,\n",
    "                                 out_channels=embedding_dim,\n",
    "                                 kernel_size=patch_size,\n",
    "                                 stride=patch_size,\n",
    "                                 padding=0)\n",
    "\n",
    "        # 4. Create a layer to flatten the patch feature maps into a single dimension\n",
    "        self.flatten = nn.Flatten(start_dim=2, # only flatten the feature map dimensions into a single vector\n",
    "                                  end_dim=3)\n",
    "\n",
    "    # 5. Define the forward method \n",
    "    def forward(self, x):\n",
    "        # Create assertion to check that inputs are the correct shape\n",
    "        image_resolution = x.shape[-1]\n",
    "        assert image_resolution % self.patch_size == 0, f\"Input image size must be divisble by patch size, image shape: {image_resolution}, patch size: {self.patch_size}\"\n",
    "        \n",
    "        # Perform the forward pass\n",
    "        x_patched = self.patcher(x)\n",
    "        x_flattened = self.flatten(x_patched) \n",
    "        # 6. Make sure the output shape has the right order \n",
    "        return x_flattened.permute(0, 2, 1) # adjust so the embedding is on the final dimension [batch_size, P^2•C, N] -> [batch_size, N, P^2•C]\n",
    "\n",
    "class ViT(nn.Module): \n",
    "  def __init__(self,\n",
    "               img_size=224, # from Table 3\n",
    "               num_channels=3,\n",
    "               patch_size=16,\n",
    "               embedding_dim=768, # from Table 1\n",
    "               dropout=0.1, \n",
    "               mlp_size=3072, # from Table 1\n",
    "               num_transformer_layers=12, # from Table 1\n",
    "               num_heads=12, # from Table 1 (number of multi-head self attention heads)\n",
    "               num_classes=1000): # generic number of classes (this can be adjusted)\n",
    "    super().__init__()\n",
    "\n",
    "    # Assert image size is divisible by patch size \n",
    "    assert img_size % patch_size == 0, \"Image size must be divisble by patch size.\"\n",
    "\n",
    "    # 1. Create patch embedding\n",
    "    self.patch_embedding = PatchEmbedding(in_channels=num_channels,\n",
    "                                          patch_size=patch_size,\n",
    "                                          embedding_dim=embedding_dim)\n",
    "\n",
    "    # 2. Create class token\n",
    "    self.class_token = nn.Parameter(torch.randn(1, 1, embedding_dim),\n",
    "                                    requires_grad=True)\n",
    "\n",
    "    # 3. Create positional embedding\n",
    "    num_patches = (img_size * img_size) // patch_size**2 # N = HW/P^2\n",
    "    self.positional_embedding = nn.Parameter(torch.randn(1, num_patches+1, embedding_dim))\n",
    "\n",
    "    # 4. Create patch + position embedding dropout \n",
    "    self.embedding_dropout = nn.Dropout(p=dropout)\n",
    "\n",
    "    # # 5. Create Transformer Encoder layer (single)\n",
    "    # self.transformer_encoder_layer = nn.TransformerEncoderLayer(d_model=embedding_dim,\n",
    "    #                                                             nhead=num_heads,\n",
    "    #                                                             dim_feedforward=mlp_size,\n",
    "    #                                                             activation=\"gelu\",\n",
    "    #                                                             batch_first=True,\n",
    "    #                                                             norm_first=True)\n",
    "\n",
    "    # 5. Create stack Transformer Encoder layers (stacked single layers)\n",
    "    self.transformer_encoder = nn.TransformerEncoder(encoder_layer=nn.TransformerEncoderLayer(d_model=embedding_dim,\n",
    "                                                                                              nhead=num_heads,\n",
    "                                                                                              dim_feedforward=mlp_size,\n",
    "                                                                                              activation=\"gelu\",\n",
    "                                                                                              batch_first=True,\n",
    "                                                                                              norm_first=True), # Create a single Transformer Encoder Layer\n",
    "                                                     num_layers=num_transformer_layers) # Stack it N times\n",
    "\n",
    "    # 7. Create MLP head\n",
    "    self.mlp_head = nn.Sequential(\n",
    "        nn.LayerNorm(normalized_shape=embedding_dim),\n",
    "        nn.Linear(in_features=embedding_dim,\n",
    "                  out_features=num_classes)\n",
    "    )\n",
    "\n",
    "  def forward(self, x):\n",
    "    # Get some dimensions from x\n",
    "    batch_size = x.shape[0]\n",
    "\n",
    "    # Create the patch embedding\n",
    "    x = self.patch_embedding(x)\n",
    "    # print(x.shape)\n",
    "\n",
    "    # First, expand the class token across the batch size\n",
    "    class_token = self.class_token.expand(batch_size, -1, -1) # \"-1\" means infer the dimension\n",
    "\n",
    "    # Prepend the class token to the patch embedding\n",
    "    x = torch.cat((class_token, x), dim=1)\n",
    "    # print(x.shape)\n",
    "\n",
    "    # Add the positional embedding to patch embedding with class token\n",
    "    x = self.positional_embedding + x\n",
    "    # print(x.shape)\n",
    "\n",
    "    # Dropout on patch + positional embedding\n",
    "    x = self.embedding_dropout(x)\n",
    "\n",
    "    # Pass embedding through Transformer Encoder stack\n",
    "    x = self.transformer_encoder(x)\n",
    "\n",
    "    # Pass 0th index of x through MLP head\n",
    "    x = self.mlp_head(x[:, 0])\n",
    "\n",
    "    return x"
   ]
  },
  {
   "cell_type": "code",
   "execution_count": 19,
   "id": "6b732308",
   "metadata": {},
   "outputs": [],
   "source": [
    "!python vit.py"
   ]
  },
  {
   "cell_type": "code",
   "execution_count": 20,
   "id": "f892c0e7",
   "metadata": {},
   "outputs": [
    {
     "data": {
      "text/plain": [
       "===============================================================================================\n",
       "Layer (type:depth-idx)                        Output Shape              Param #\n",
       "===============================================================================================\n",
       "ViT                                           [1, 1000]                 152,064\n",
       "├─PatchEmbedding: 1-1                         [1, 196, 768]             --\n",
       "│    └─Conv2d: 2-1                            [1, 768, 14, 14]          590,592\n",
       "│    └─Flatten: 2-2                           [1, 768, 196]             --\n",
       "├─Dropout: 1-2                                [1, 197, 768]             --\n",
       "├─TransformerEncoder: 1-3                     [1, 197, 768]             --\n",
       "│    └─ModuleList: 2-3                        --                        --\n",
       "│    │    └─TransformerEncoderLayer: 3-1      [1, 197, 768]             7,087,872\n",
       "│    │    └─TransformerEncoderLayer: 3-2      [1, 197, 768]             7,087,872\n",
       "│    │    └─TransformerEncoderLayer: 3-3      [1, 197, 768]             7,087,872\n",
       "│    │    └─TransformerEncoderLayer: 3-4      [1, 197, 768]             7,087,872\n",
       "│    │    └─TransformerEncoderLayer: 3-5      [1, 197, 768]             7,087,872\n",
       "│    │    └─TransformerEncoderLayer: 3-6      [1, 197, 768]             7,087,872\n",
       "│    │    └─TransformerEncoderLayer: 3-7      [1, 197, 768]             7,087,872\n",
       "│    │    └─TransformerEncoderLayer: 3-8      [1, 197, 768]             7,087,872\n",
       "│    │    └─TransformerEncoderLayer: 3-9      [1, 197, 768]             7,087,872\n",
       "│    │    └─TransformerEncoderLayer: 3-10     [1, 197, 768]             7,087,872\n",
       "│    │    └─TransformerEncoderLayer: 3-11     [1, 197, 768]             7,087,872\n",
       "│    │    └─TransformerEncoderLayer: 3-12     [1, 197, 768]             7,087,872\n",
       "├─Sequential: 1-4                             [1, 1000]                 --\n",
       "│    └─LayerNorm: 2-4                         [1, 768]                  1,536\n",
       "│    └─Linear: 2-5                            [1, 1000]                 769,000\n",
       "===============================================================================================\n",
       "Total params: 86,567,656\n",
       "Trainable params: 86,567,656\n",
       "Non-trainable params: 0\n",
       "Total mult-adds (Units.MEGABYTES): 116.53\n",
       "===============================================================================================\n",
       "Input size (MB): 0.60\n",
       "Forward/backward pass size (MB): 1.22\n",
       "Params size (MB): 5.44\n",
       "Estimated Total Size (MB): 7.27\n",
       "==============================================================================================="
      ]
     },
     "execution_count": 20,
     "metadata": {},
     "output_type": "execute_result"
    }
   ],
   "source": [
    "from vit import ViT\n",
    "\n",
    "imported_vit = ViT()\n",
    "summary(model=imported_vit,\n",
    "        input_size=(1, 3, 224, 224))"
   ]
  },
  {
   "cell_type": "code",
   "execution_count": 21,
   "id": "e9f2af07",
   "metadata": {},
   "outputs": [
    {
     "name": "stderr",
     "output_type": "stream",
     "text": [
      "Downloading: \"https://download.pytorch.org/models/vit_b_16-c867db91.pth\" to /data/home/ayyoobmohd/.cache/torch/hub/checkpoints/vit_b_16-c867db91.pth\n",
      "100%|████████████████████████████████████████████████████████████████████████| 330M/330M [00:04<00:00, 70.0MB/s]\n"
     ]
    },
    {
     "data": {
      "text/plain": [
       "============================================================================================================================================\n",
       "Layer (type (var_name))                                      Input Shape          Output Shape         Param #              Trainable\n",
       "============================================================================================================================================\n",
       "VisionTransformer (VisionTransformer)                        [1, 3, 224, 224]     [1, 3]               768                  Partial\n",
       "├─Conv2d (conv_proj)                                         [1, 3, 224, 224]     [1, 768, 14, 14]     (590,592)            False\n",
       "├─Encoder (encoder)                                          [1, 197, 768]        [1, 197, 768]        151,296              False\n",
       "│    └─Dropout (dropout)                                     [1, 197, 768]        [1, 197, 768]        --                   --\n",
       "│    └─Sequential (layers)                                   [1, 197, 768]        [1, 197, 768]        --                   False\n",
       "│    │    └─EncoderBlock (encoder_layer_0)                   [1, 197, 768]        [1, 197, 768]        (7,087,872)          False\n",
       "│    │    └─EncoderBlock (encoder_layer_1)                   [1, 197, 768]        [1, 197, 768]        (7,087,872)          False\n",
       "│    │    └─EncoderBlock (encoder_layer_2)                   [1, 197, 768]        [1, 197, 768]        (7,087,872)          False\n",
       "│    │    └─EncoderBlock (encoder_layer_3)                   [1, 197, 768]        [1, 197, 768]        (7,087,872)          False\n",
       "│    │    └─EncoderBlock (encoder_layer_4)                   [1, 197, 768]        [1, 197, 768]        (7,087,872)          False\n",
       "│    │    └─EncoderBlock (encoder_layer_5)                   [1, 197, 768]        [1, 197, 768]        (7,087,872)          False\n",
       "│    │    └─EncoderBlock (encoder_layer_6)                   [1, 197, 768]        [1, 197, 768]        (7,087,872)          False\n",
       "│    │    └─EncoderBlock (encoder_layer_7)                   [1, 197, 768]        [1, 197, 768]        (7,087,872)          False\n",
       "│    │    └─EncoderBlock (encoder_layer_8)                   [1, 197, 768]        [1, 197, 768]        (7,087,872)          False\n",
       "│    │    └─EncoderBlock (encoder_layer_9)                   [1, 197, 768]        [1, 197, 768]        (7,087,872)          False\n",
       "│    │    └─EncoderBlock (encoder_layer_10)                  [1, 197, 768]        [1, 197, 768]        (7,087,872)          False\n",
       "│    │    └─EncoderBlock (encoder_layer_11)                  [1, 197, 768]        [1, 197, 768]        (7,087,872)          False\n",
       "│    └─LayerNorm (ln)                                        [1, 197, 768]        [1, 197, 768]        (1,536)              False\n",
       "├─Sequential (heads)                                         [1, 768]             [1, 3]               --                   True\n",
       "│    └─LayerNorm (0)                                         [1, 768]             [1, 768]             1,536                True\n",
       "│    └─Linear (1)                                            [1, 768]             [1, 3]               2,307                True\n",
       "============================================================================================================================================\n",
       "Total params: 85,802,499\n",
       "Trainable params: 3,843\n",
       "Non-trainable params: 85,798,656\n",
       "Total mult-adds (Units.MEGABYTES): 172.47\n",
       "============================================================================================================================================\n",
       "Input size (MB): 0.60\n",
       "Forward/backward pass size (MB): 104.09\n",
       "Params size (MB): 229.21\n",
       "Estimated Total Size (MB): 333.90\n",
       "============================================================================================================================================"
      ]
     },
     "execution_count": 21,
     "metadata": {},
     "output_type": "execute_result"
    }
   ],
   "source": [
    "# Create ViT feature extractor model\n",
    "import torchvision\n",
    "\n",
    "# Download pretrained ViT weights and model\n",
    "vit_weights = torchvision.models.ViT_B_16_Weights.DEFAULT # \"DEFAULT\" means best available\n",
    "pretrained_vit = torchvision.models.vit_b_16(weights=vit_weights)\n",
    "\n",
    "# Freeze all layers in pretrained ViT model \n",
    "for param in pretrained_vit.parameters():\n",
    "  param.requires_grad = False\n",
    "\n",
    "# Update the preatrained ViT head \n",
    "embedding_dim = 768 # ViT_Base\n",
    "set_seeds()\n",
    "pretrained_vit.heads = nn.Sequential(\n",
    "    nn.LayerNorm(normalized_shape=embedding_dim),\n",
    "    nn.Linear(in_features=embedding_dim, \n",
    "              out_features=len(class_names))\n",
    ")\n",
    "\n",
    "# Print a summary\n",
    "summary(model=pretrained_vit, \n",
    "        input_size=(1, 3, 224, 224), # (batch_size, color_channels, height, width)\n",
    "        # col_names=[\"input_size\"], # uncomment for smaller output\n",
    "        col_names=[\"input_size\", \"output_size\", \"num_params\", \"trainable\"],\n",
    "        col_width=20,\n",
    "        row_settings=[\"var_names\"]\n",
    ")"
   ]
  },
  {
   "cell_type": "code",
   "execution_count": 22,
   "id": "a96cf404",
   "metadata": {},
   "outputs": [
    {
     "name": "stdout",
     "output_type": "stream",
     "text": [
      "[INFO] Did not find data/pizza_steak_sushi_20_percent directory, creating one...\n",
      "[INFO] Downloading pizza_steak_sushi_20_percent.zip from https://github.com/mrdbourke/pytorch-deep-learning/raw/main/data/pizza_steak_sushi_20_percent.zip...\n",
      "[INFO] Unzipping pizza_steak_sushi_20_percent.zip data...\n"
     ]
    }
   ],
   "source": [
    "# Get 20% of the data\n",
    "data_20_percent_path = download_data(source=\"https://github.com/mrdbourke/pytorch-deep-learning/raw/main/data/pizza_steak_sushi_20_percent.zip\",\n",
    "                                     destination=\"pizza_steak_sushi_20_percent\")\n",
    "\n",
    "# Setup train and test directories\n",
    "train_dir_20_percent = data_20_percent_path / \"train\"\n",
    "# test_dir_20_percent = data_20_percent_path / \"test\" # don't need 20% test data as the model in 07. PyTorch Experiment Tracking section 7.3 tests on the 10% dataset not the 20%\n",
    "\n",
    "# Preprocess the data\n",
    "vit_transforms = vit_weights.transforms() # get transforms from vit_weights\n",
    "train_dataloader_20_percent, test_dataloader, class_names = data_setup.create_dataloaders(train_dir=train_dir_20_percent, \n",
    "                                                                                           test_dir=test_dir, # use 10% data for testing\n",
    "                                                                                           transform=vit_transforms, \n",
    "                                                                                           batch_size=32)"
   ]
  },
  {
   "cell_type": "code",
   "execution_count": 23,
   "id": "8e2a830c",
   "metadata": {},
   "outputs": [
    {
     "data": {
      "application/vnd.jupyter.widget-view+json": {
       "model_id": "bd06fe4d59e14be0a117423c15eef591",
       "version_major": 2,
       "version_minor": 0
      },
      "text/plain": [
       "  0%|          | 0/10 [00:00<?, ?it/s]"
      ]
     },
     "metadata": {},
     "output_type": "display_data"
    },
    {
     "name": "stdout",
     "output_type": "stream",
     "text": [
      "Epoch: 1 | train_loss: 0.6447 | train_acc: 0.7562 | test_loss: 0.2312 | test_acc: 0.9072\n",
      "Epoch: 2 | train_loss: 0.2037 | train_acc: 0.9187 | test_loss: 0.2298 | test_acc: 0.9489\n",
      "Epoch: 3 | train_loss: 0.1401 | train_acc: 0.9583 | test_loss: 0.1992 | test_acc: 0.9384\n",
      "Epoch: 4 | train_loss: 0.1002 | train_acc: 0.9688 | test_loss: 0.1781 | test_acc: 0.9688\n",
      "Epoch: 5 | train_loss: 0.0885 | train_acc: 0.9771 | test_loss: 0.1799 | test_acc: 0.9384\n",
      "Epoch: 6 | train_loss: 0.0921 | train_acc: 0.9521 | test_loss: 0.1706 | test_acc: 0.9583\n",
      "Epoch: 7 | train_loss: 0.0655 | train_acc: 0.9812 | test_loss: 0.1786 | test_acc: 0.9583\n",
      "Epoch: 8 | train_loss: 0.0580 | train_acc: 0.9875 | test_loss: 0.1993 | test_acc: 0.9384\n",
      "Epoch: 9 | train_loss: 0.0669 | train_acc: 0.9938 | test_loss: 0.2036 | test_acc: 0.9384\n",
      "Epoch: 10 | train_loss: 0.0414 | train_acc: 0.9938 | test_loss: 0.1873 | test_acc: 0.9280\n"
     ]
    }
   ],
   "source": [
    "# Train a pretrained ViT feature extractor\n",
    "from going_modular.going_modular import engine\n",
    "\n",
    "optimizer = torch.optim.Adam(params=pretrained_vit.parameters(),\n",
    "                             lr=1e-3)\n",
    "loss_fn = torch.nn.CrossEntropyLoss()\n",
    "\n",
    "set_seeds()\n",
    "pretrained_vit_results = engine.train(model=pretrained_vit,\n",
    "                                      train_dataloader=train_dataloader_20_percent,\n",
    "                                      test_dataloader=test_dataloader,\n",
    "                                      optimizer=optimizer,\n",
    "                                      loss_fn=loss_fn,\n",
    "                                      epochs=10,\n",
    "                                      device=device)"
   ]
  },
  {
   "cell_type": "code",
   "execution_count": 24,
   "id": "036dd749",
   "metadata": {},
   "outputs": [
    {
     "data": {
      "image/png": "[encoded data removed]",
      "text/plain": [
       "<Figure size 1500x700 with 2 Axes>"
      ]
     },
     "metadata": {},
     "output_type": "display_data"
    }
   ],
   "source": [
    "# Examine results\n",
    "from helper_functions import plot_loss_curves\n",
    "\n",
    "plot_loss_curves(pretrained_vit_results)"
   ]
  },
  {
   "cell_type": "code",
   "execution_count": null,
   "id": "656037b5",
   "metadata": {},
   "outputs": [],
   "source": []
  }
 ],
 "metadata": {
  "kernelspec": {
   "display_name": "Python 3 (ipykernel)",
   "language": "python",
   "name": "python3"
  },
  "language_info": {
   "codemirror_mode": {
    "name": "ipython",
    "version": 3
   },
   "file_extension": ".py",
   "mimetype": "text/x-python",
   "name": "python",
   "nbconvert_exporter": "python",
   "pygments_lexer": "ipython3",
   "version": "3.11.4"
  }
 },
 "nbformat": 4,
 "nbformat_minor": 5
}
